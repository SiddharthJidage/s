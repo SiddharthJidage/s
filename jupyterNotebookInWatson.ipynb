{
    "cells": [
        {
            "cell_type": "markdown",
            "metadata": {
                "collapsed": true
            },
            "source": "# Decsription\nMonthly Excess Returns\n"
        },
        {
            "cell_type": "code",
            "execution_count": 1,
            "metadata": {},
            "outputs": [
                {
                    "data": {
                        "text/html": "<div>\n<style scoped>\n    .dataframe tbody tr th:only-of-type {\n        vertical-align: middle;\n    }\n\n    .dataframe tbody tr th {\n        vertical-align: top;\n    }\n\n    .dataframe thead th {\n        text-align: right;\n    }\n</style>\n<table border=\"1\" class=\"dataframe\">\n  <thead>\n    <tr style=\"text-align: right;\">\n      <th></th>\n      <th>Unnamed: 0</th>\n      <th>month</th>\n      <th>market</th>\n      <th>acme</th>\n    </tr>\n  </thead>\n  <tbody>\n    <tr>\n      <th>0</th>\n      <td>1</td>\n      <td>1/86</td>\n      <td>-0.061134</td>\n      <td>0.030160</td>\n    </tr>\n    <tr>\n      <th>1</th>\n      <td>2</td>\n      <td>2/86</td>\n      <td>0.008220</td>\n      <td>-0.165457</td>\n    </tr>\n    <tr>\n      <th>2</th>\n      <td>3</td>\n      <td>3/86</td>\n      <td>-0.007381</td>\n      <td>0.080137</td>\n    </tr>\n    <tr>\n      <th>3</th>\n      <td>4</td>\n      <td>4/86</td>\n      <td>-0.067561</td>\n      <td>-0.109917</td>\n    </tr>\n    <tr>\n      <th>4</th>\n      <td>5</td>\n      <td>5/86</td>\n      <td>-0.006238</td>\n      <td>-0.114853</td>\n    </tr>\n  </tbody>\n</table>\n</div>",
                        "text/plain": "   Unnamed: 0 month    market      acme\n0           1  1/86 -0.061134  0.030160\n1           2  2/86  0.008220 -0.165457\n2           3  3/86 -0.007381  0.080137\n3           4  4/86 -0.067561 -0.109917\n4           5  5/86 -0.006238 -0.114853"
                    },
                    "execution_count": 1,
                    "metadata": {},
                    "output_type": "execute_result"
                }
            ],
            "source": "# The code was removed by Watson Studio for sharing."
        },
        {
            "cell_type": "code",
            "execution_count": null,
            "metadata": {},
            "outputs": [],
            "source": ""
        }
    ],
    "metadata": {
        "kernelspec": {
            "display_name": "Python 3.6",
            "language": "python",
            "name": "python3"
        },
        "language_info": {
            "codemirror_mode": {
                "name": "ipython",
                "version": 3
            },
            "file_extension": ".py",
            "mimetype": "text/x-python",
            "name": "python",
            "nbconvert_exporter": "python",
            "pygments_lexer": "ipython3",
            "version": "3.6.9"
        }
    },
    "nbformat": 4,
    "nbformat_minor": 1
}